{
 "cells": [
  {
   "cell_type": "markdown",
   "id": "255e5058",
   "metadata": {},
   "source": [
    "# Importing"
   ]
  },
  {
   "cell_type": "code",
   "execution_count": 37,
   "id": "b9b27666",
   "metadata": {},
   "outputs": [],
   "source": [
    "import numpy as np\n",
    "import pandas as pd\n",
    "import itertools\n",
    "from sklearn.model_selection import train_test_split\n",
    "from sklearn.feature_extraction.text import TfidfVectorizer\n",
    "from sklearn.linear_model import PassiveAggressiveClassifier\n",
    "from sklearn.metrics import accuracy_score, confusion_matrix\n",
    "import gradio as gr"
   ]
  },
  {
   "cell_type": "markdown",
   "id": "541dc6d4",
   "metadata": {},
   "source": [
    "# Read the data"
   ]
  },
  {
   "cell_type": "code",
   "execution_count": 38,
   "id": "3d64f260",
   "metadata": {},
   "outputs": [
    {
     "data": {
      "text/html": [
       "<div>\n",
       "<style scoped>\n",
       "    .dataframe tbody tr th:only-of-type {\n",
       "        vertical-align: middle;\n",
       "    }\n",
       "\n",
       "    .dataframe tbody tr th {\n",
       "        vertical-align: top;\n",
       "    }\n",
       "\n",
       "    .dataframe thead th {\n",
       "        text-align: right;\n",
       "    }\n",
       "</style>\n",
       "<table border=\"1\" class=\"dataframe\">\n",
       "  <thead>\n",
       "    <tr style=\"text-align: right;\">\n",
       "      <th></th>\n",
       "      <th>Unnamed: 0.1</th>\n",
       "      <th>title</th>\n",
       "      <th>text</th>\n",
       "      <th>label</th>\n",
       "    </tr>\n",
       "  </thead>\n",
       "  <tbody>\n",
       "    <tr>\n",
       "      <th>0</th>\n",
       "      <td>8476</td>\n",
       "      <td>You Can Smell Hillary’s Fear</td>\n",
       "      <td>Daniel Greenfield, a Shillman Journalism Fello...</td>\n",
       "      <td>FAKE</td>\n",
       "    </tr>\n",
       "    <tr>\n",
       "      <th>1</th>\n",
       "      <td>10294</td>\n",
       "      <td>Watch The Exact Moment Paul Ryan Committed Pol...</td>\n",
       "      <td>Google Pinterest Digg Linkedin Reddit Stumbleu...</td>\n",
       "      <td>FAKE</td>\n",
       "    </tr>\n",
       "    <tr>\n",
       "      <th>2</th>\n",
       "      <td>3608</td>\n",
       "      <td>Kerry to go to Paris in gesture of sympathy</td>\n",
       "      <td>U.S. Secretary of State John F. Kerry said Mon...</td>\n",
       "      <td>REAL</td>\n",
       "    </tr>\n",
       "    <tr>\n",
       "      <th>3</th>\n",
       "      <td>10142</td>\n",
       "      <td>Bernie supporters on Twitter erupt in anger ag...</td>\n",
       "      <td>— Kaydee King (@KaydeeKing) November 9, 2016 T...</td>\n",
       "      <td>FAKE</td>\n",
       "    </tr>\n",
       "    <tr>\n",
       "      <th>4</th>\n",
       "      <td>875</td>\n",
       "      <td>The Battle of New York: Why This Primary Matters</td>\n",
       "      <td>It's primary day in New York and front-runners...</td>\n",
       "      <td>REAL</td>\n",
       "    </tr>\n",
       "    <tr>\n",
       "      <th>...</th>\n",
       "      <td>...</td>\n",
       "      <td>...</td>\n",
       "      <td>...</td>\n",
       "      <td>...</td>\n",
       "    </tr>\n",
       "    <tr>\n",
       "      <th>51228</th>\n",
       "      <td>23476</td>\n",
       "      <td>McPain: John McCain Furious That Iran Treated ...</td>\n",
       "      <td>21st Century Wire says As 21WIRE reported earl...</td>\n",
       "      <td>FAKE</td>\n",
       "    </tr>\n",
       "    <tr>\n",
       "      <th>51229</th>\n",
       "      <td>23477</td>\n",
       "      <td>JUSTICE? Yahoo Settles E-mail Privacy Class-ac...</td>\n",
       "      <td>21st Century Wire says It s a familiar theme. ...</td>\n",
       "      <td>FAKE</td>\n",
       "    </tr>\n",
       "    <tr>\n",
       "      <th>51230</th>\n",
       "      <td>23478</td>\n",
       "      <td>Sunnistan: US and Allied ‘Safe Zone’ Plan to T...</td>\n",
       "      <td>Patrick Henningsen  21st Century WireRemember ...</td>\n",
       "      <td>FAKE</td>\n",
       "    </tr>\n",
       "    <tr>\n",
       "      <th>51231</th>\n",
       "      <td>23479</td>\n",
       "      <td>How to Blow $700 Million: Al Jazeera America F...</td>\n",
       "      <td>21st Century Wire says Al Jazeera America will...</td>\n",
       "      <td>FAKE</td>\n",
       "    </tr>\n",
       "    <tr>\n",
       "      <th>51232</th>\n",
       "      <td>23480</td>\n",
       "      <td>10 U.S. Navy Sailors Held by Iranian Military ...</td>\n",
       "      <td>21st Century Wire says As 21WIRE predicted in ...</td>\n",
       "      <td>FAKE</td>\n",
       "    </tr>\n",
       "  </tbody>\n",
       "</table>\n",
       "<p>51233 rows × 4 columns</p>\n",
       "</div>"
      ],
      "text/plain": [
       "       Unnamed: 0.1                                              title  \\\n",
       "0              8476                       You Can Smell Hillary’s Fear   \n",
       "1             10294  Watch The Exact Moment Paul Ryan Committed Pol...   \n",
       "2              3608        Kerry to go to Paris in gesture of sympathy   \n",
       "3             10142  Bernie supporters on Twitter erupt in anger ag...   \n",
       "4               875   The Battle of New York: Why This Primary Matters   \n",
       "...             ...                                                ...   \n",
       "51228         23476  McPain: John McCain Furious That Iran Treated ...   \n",
       "51229         23477  JUSTICE? Yahoo Settles E-mail Privacy Class-ac...   \n",
       "51230         23478  Sunnistan: US and Allied ‘Safe Zone’ Plan to T...   \n",
       "51231         23479  How to Blow $700 Million: Al Jazeera America F...   \n",
       "51232         23480  10 U.S. Navy Sailors Held by Iranian Military ...   \n",
       "\n",
       "                                                    text label  \n",
       "0      Daniel Greenfield, a Shillman Journalism Fello...  FAKE  \n",
       "1      Google Pinterest Digg Linkedin Reddit Stumbleu...  FAKE  \n",
       "2      U.S. Secretary of State John F. Kerry said Mon...  REAL  \n",
       "3      — Kaydee King (@KaydeeKing) November 9, 2016 T...  FAKE  \n",
       "4      It's primary day in New York and front-runners...  REAL  \n",
       "...                                                  ...   ...  \n",
       "51228  21st Century Wire says As 21WIRE reported earl...  FAKE  \n",
       "51229  21st Century Wire says It s a familiar theme. ...  FAKE  \n",
       "51230  Patrick Henningsen  21st Century WireRemember ...  FAKE  \n",
       "51231  21st Century Wire says Al Jazeera America will...  FAKE  \n",
       "51232  21st Century Wire says As 21WIRE predicted in ...  FAKE  \n",
       "\n",
       "[51233 rows x 4 columns]"
      ]
     },
     "execution_count": 38,
     "metadata": {},
     "output_type": "execute_result"
    }
   ],
   "source": [
    "#Read the data\n",
    "df=pd.read_csv('news_comb.csv')\n",
    "\n",
    "#Get shape and head\n",
    "df.shape\n",
    "df.drop(['Unnamed: 0'], axis = 1)"
   ]
  },
  {
   "cell_type": "markdown",
   "id": "a980b320",
   "metadata": {},
   "source": [
    "# Seperating Labels"
   ]
  },
  {
   "cell_type": "code",
   "execution_count": 39,
   "id": "386de2c4",
   "metadata": {
    "scrolled": true
   },
   "outputs": [
    {
     "data": {
      "text/plain": [
       "0    FAKE\n",
       "1    FAKE\n",
       "2    REAL\n",
       "3    FAKE\n",
       "4    REAL\n",
       "Name: label, dtype: object"
      ]
     },
     "execution_count": 39,
     "metadata": {},
     "output_type": "execute_result"
    }
   ],
   "source": [
    "#DataFlair - Get the labels\n",
    "labels = df.label\n",
    "labels.head()"
   ]
  },
  {
   "cell_type": "markdown",
   "id": "fa9575f6",
   "metadata": {},
   "source": [
    "# Train test Split the dataset"
   ]
  },
  {
   "cell_type": "code",
   "execution_count": 40,
   "id": "e27ce55d",
   "metadata": {},
   "outputs": [],
   "source": [
    "x_train,x_test,y_train,y_test= train_test_split(df, labels, test_size=0.2, random_state=7)"
   ]
  },
  {
   "cell_type": "code",
   "execution_count": 41,
   "id": "6c5cf400",
   "metadata": {},
   "outputs": [
    {
     "data": {
      "text/html": [
       "<div>\n",
       "<style scoped>\n",
       "    .dataframe tbody tr th:only-of-type {\n",
       "        vertical-align: middle;\n",
       "    }\n",
       "\n",
       "    .dataframe tbody tr th {\n",
       "        vertical-align: top;\n",
       "    }\n",
       "\n",
       "    .dataframe thead th {\n",
       "        text-align: right;\n",
       "    }\n",
       "</style>\n",
       "<table border=\"1\" class=\"dataframe\">\n",
       "  <thead>\n",
       "    <tr style=\"text-align: right;\">\n",
       "      <th></th>\n",
       "      <th>text</th>\n",
       "      <th>label</th>\n",
       "    </tr>\n",
       "  </thead>\n",
       "  <tbody>\n",
       "    <tr>\n",
       "      <th>23499</th>\n",
       "      <td>BEIJING (Reuters) - China s ruling Communist P...</td>\n",
       "      <td>REAL</td>\n",
       "    </tr>\n",
       "    <tr>\n",
       "      <th>5965</th>\n",
       "      <td>Headlined to H3 10/26/16 - Advertisement - \\nT...</td>\n",
       "      <td>FAKE</td>\n",
       "    </tr>\n",
       "    <tr>\n",
       "      <th>47211</th>\n",
       "      <td></td>\n",
       "      <td>FAKE</td>\n",
       "    </tr>\n",
       "    <tr>\n",
       "      <th>25930</th>\n",
       "      <td>ABIDJAN (Reuters) - At least 10 people have di...</td>\n",
       "      <td>REAL</td>\n",
       "    </tr>\n",
       "    <tr>\n",
       "      <th>20885</th>\n",
       "      <td>MOSCOW (Reuters) - Kremlin spokesman Dmitry Pe...</td>\n",
       "      <td>REAL</td>\n",
       "    </tr>\n",
       "    <tr>\n",
       "      <th>...</th>\n",
       "      <td>...</td>\n",
       "      <td>...</td>\n",
       "    </tr>\n",
       "    <tr>\n",
       "      <th>28054</th>\n",
       "      <td>Donald Trump went all in for his man Luther St...</td>\n",
       "      <td>FAKE</td>\n",
       "    </tr>\n",
       "    <tr>\n",
       "      <th>12110</th>\n",
       "      <td>DUBAI (Reuters) - Iran said on Wednesday it ha...</td>\n",
       "      <td>REAL</td>\n",
       "    </tr>\n",
       "    <tr>\n",
       "      <th>36322</th>\n",
       "      <td>Bill Maher is all about telling it like it is,...</td>\n",
       "      <td>FAKE</td>\n",
       "    </tr>\n",
       "    <tr>\n",
       "      <th>44194</th>\n",
       "      <td>If I were a European and was forced to deal wi...</td>\n",
       "      <td>FAKE</td>\n",
       "    </tr>\n",
       "    <tr>\n",
       "      <th>44946</th>\n",
       "      <td>The Atlanta NAACP is totally over the top on t...</td>\n",
       "      <td>FAKE</td>\n",
       "    </tr>\n",
       "  </tbody>\n",
       "</table>\n",
       "<p>10247 rows × 2 columns</p>\n",
       "</div>"
      ],
      "text/plain": [
       "                                                    text label\n",
       "23499  BEIJING (Reuters) - China s ruling Communist P...  REAL\n",
       "5965   Headlined to H3 10/26/16 - Advertisement - \\nT...  FAKE\n",
       "47211                                                     FAKE\n",
       "25930  ABIDJAN (Reuters) - At least 10 people have di...  REAL\n",
       "20885  MOSCOW (Reuters) - Kremlin spokesman Dmitry Pe...  REAL\n",
       "...                                                  ...   ...\n",
       "28054  Donald Trump went all in for his man Luther St...  FAKE\n",
       "12110  DUBAI (Reuters) - Iran said on Wednesday it ha...  REAL\n",
       "36322  Bill Maher is all about telling it like it is,...  FAKE\n",
       "44194  If I were a European and was forced to deal wi...  FAKE\n",
       "44946  The Atlanta NAACP is totally over the top on t...  FAKE\n",
       "\n",
       "[10247 rows x 2 columns]"
      ]
     },
     "execution_count": 41,
     "metadata": {},
     "output_type": "execute_result"
    }
   ],
   "source": [
    "df_t1 = x_test.drop(['Unnamed: 0','Unnamed: 0.1','title'],axis = 1)\n",
    "df_t1"
   ]
  },
  {
   "cell_type": "code",
   "execution_count": 42,
   "id": "9360ca5b",
   "metadata": {},
   "outputs": [],
   "source": [
    "#DataFlair - Initialize a TfidfVectorizer\n",
    "tfidf_vectorizer = TfidfVectorizer(stop_words='english', max_df= 0.999)\n",
    "\n",
    "#DataFlair - Fit and transform train set, transform test set\n",
    "tfidf_train = tfidf_vectorizer.fit_transform(x_train['text']) \n",
    "tfidf_test = tfidf_vectorizer.transform(x_test['text'])\n"
   ]
  },
  {
   "cell_type": "code",
   "execution_count": 43,
   "id": "8f890e02",
   "metadata": {},
   "outputs": [
    {
     "data": {
      "text/plain": [
       "PassiveAggressiveClassifier(max_iter=50)"
      ]
     },
     "execution_count": 43,
     "metadata": {},
     "output_type": "execute_result"
    }
   ],
   "source": [
    "#DataFlair - Initialize a PassiveAggressiveClassifier\n",
    "pac = PassiveAggressiveClassifier(max_iter=50)\n",
    "pac.fit(tfidf_train,y_train)"
   ]
  },
  {
   "cell_type": "code",
   "execution_count": 44,
   "id": "f72838c7",
   "metadata": {},
   "outputs": [
    {
     "name": "stdout",
     "output_type": "stream",
     "text": [
      "Accuracy: 97.51%\n"
     ]
    }
   ],
   "source": [
    "#DataFlair - Predict on the test set and calculate accuracy\n",
    "y_pred=pac.predict(tfidf_test)\n",
    "score=accuracy_score(y_test,y_pred)\n",
    "print(f'Accuracy: {round(score*100,2)}%')"
   ]
  },
  {
   "cell_type": "code",
   "execution_count": 45,
   "id": "fdae09eb",
   "metadata": {
    "scrolled": true
   },
   "outputs": [
    {
     "data": {
      "text/plain": [
       "array([[5205,  112],\n",
       "       [ 143, 4787]], dtype=int64)"
      ]
     },
     "execution_count": 45,
     "metadata": {},
     "output_type": "execute_result"
    }
   ],
   "source": [
    "#DataFlair - Build confusion matrix\n",
    "confusion_matrix(y_test,y_pred, labels=['FAKE','REAL'])"
   ]
  },
  {
   "cell_type": "markdown",
   "id": "fdb038bf",
   "metadata": {},
   "source": [
    "# Testing using external data"
   ]
  },
  {
   "cell_type": "code",
   "execution_count": 48,
   "id": "fb612d30",
   "metadata": {
    "scrolled": false
   },
   "outputs": [
    {
     "data": {
      "text/html": [
       "<div>\n",
       "<style scoped>\n",
       "    .dataframe tbody tr th:only-of-type {\n",
       "        vertical-align: middle;\n",
       "    }\n",
       "\n",
       "    .dataframe tbody tr th {\n",
       "        vertical-align: top;\n",
       "    }\n",
       "\n",
       "    .dataframe thead th {\n",
       "        text-align: right;\n",
       "    }\n",
       "</style>\n",
       "<table border=\"1\" class=\"dataframe\">\n",
       "  <thead>\n",
       "    <tr style=\"text-align: right;\">\n",
       "      <th></th>\n",
       "      <th>text</th>\n",
       "      <th>label</th>\n",
       "    </tr>\n",
       "  </thead>\n",
       "  <tbody>\n",
       "    <tr>\n",
       "      <th>0</th>\n",
       "      <td>House Dem Aide: We Didn’t Even See Comey’s Let...</td>\n",
       "      <td>FAKE</td>\n",
       "    </tr>\n",
       "    <tr>\n",
       "      <th>1</th>\n",
       "      <td>Ever get the feeling your life circles the rou...</td>\n",
       "      <td>REAL</td>\n",
       "    </tr>\n",
       "    <tr>\n",
       "      <th>2</th>\n",
       "      <td>Why the Truth Might Get You Fired October 29, ...</td>\n",
       "      <td>FAKE</td>\n",
       "    </tr>\n",
       "    <tr>\n",
       "      <th>3</th>\n",
       "      <td>Videos 15 Civilians Killed In Single US Airstr...</td>\n",
       "      <td>FAKE</td>\n",
       "    </tr>\n",
       "    <tr>\n",
       "      <th>4</th>\n",
       "      <td>Print \\nAn Iranian woman has been sentenced to...</td>\n",
       "      <td>FAKE</td>\n",
       "    </tr>\n",
       "    <tr>\n",
       "      <th>...</th>\n",
       "      <td>...</td>\n",
       "      <td>...</td>\n",
       "    </tr>\n",
       "    <tr>\n",
       "      <th>20795</th>\n",
       "      <td>Rapper T. I. unloaded on black celebrities who...</td>\n",
       "      <td>REAL</td>\n",
       "    </tr>\n",
       "    <tr>\n",
       "      <th>20796</th>\n",
       "      <td>When the Green Bay Packers lost to the Washing...</td>\n",
       "      <td>REAL</td>\n",
       "    </tr>\n",
       "    <tr>\n",
       "      <th>20797</th>\n",
       "      <td>The Macy’s of today grew from the union of sev...</td>\n",
       "      <td>REAL</td>\n",
       "    </tr>\n",
       "    <tr>\n",
       "      <th>20798</th>\n",
       "      <td>NATO, Russia To Hold Parallel Exercises In Bal...</td>\n",
       "      <td>FAKE</td>\n",
       "    </tr>\n",
       "    <tr>\n",
       "      <th>20799</th>\n",
       "      <td>David Swanson is an author, activist, journa...</td>\n",
       "      <td>FAKE</td>\n",
       "    </tr>\n",
       "  </tbody>\n",
       "</table>\n",
       "<p>20800 rows × 2 columns</p>\n",
       "</div>"
      ],
      "text/plain": [
       "                                                    text label\n",
       "0      House Dem Aide: We Didn’t Even See Comey’s Let...  FAKE\n",
       "1      Ever get the feeling your life circles the rou...  REAL\n",
       "2      Why the Truth Might Get You Fired October 29, ...  FAKE\n",
       "3      Videos 15 Civilians Killed In Single US Airstr...  FAKE\n",
       "4      Print \\nAn Iranian woman has been sentenced to...  FAKE\n",
       "...                                                  ...   ...\n",
       "20795  Rapper T. I. unloaded on black celebrities who...  REAL\n",
       "20796  When the Green Bay Packers lost to the Washing...  REAL\n",
       "20797  The Macy’s of today grew from the union of sev...  REAL\n",
       "20798  NATO, Russia To Hold Parallel Exercises In Bal...  FAKE\n",
       "20799    David Swanson is an author, activist, journa...  FAKE\n",
       "\n",
       "[20800 rows x 2 columns]"
      ]
     },
     "execution_count": 48,
     "metadata": {},
     "output_type": "execute_result"
    }
   ],
   "source": [
    "df_test=pd.read_csv('test.csv')\n",
    "#Get shape and head\n",
    "df_t2 = df_test.drop(['id','author','title'],axis = 1)\n",
    "df_t2.loc[df_t2['label']== 1,'label']= 'FAKE'\n",
    "df_t2.loc[df_t2['label']== 0 , 'label'] = 'REAL'\n",
    "df_t2"
   ]
  },
  {
   "cell_type": "code",
   "execution_count": 49,
   "id": "21507577",
   "metadata": {},
   "outputs": [],
   "source": [
    "df_test = pd.concat([df_t1,df_t2])"
   ]
  },
  {
   "cell_type": "code",
   "execution_count": 50,
   "id": "13f5703c",
   "metadata": {
    "scrolled": true
   },
   "outputs": [
    {
     "name": "stdout",
     "output_type": "stream",
     "text": [
      "<class 'pandas.core.frame.DataFrame'>\n",
      "Int64Index: 31008 entries, 23499 to 20799\n",
      "Data columns (total 2 columns):\n",
      " #   Column  Non-Null Count  Dtype \n",
      "---  ------  --------------  ----- \n",
      " 0   text    31008 non-null  object\n",
      " 1   label   31008 non-null  object\n",
      "dtypes: object(2)\n",
      "memory usage: 726.8+ KB\n"
     ]
    }
   ],
   "source": [
    "# Replace null values with NAN\n",
    "df_test.dropna(subset=['text'],inplace=True)\n",
    "df_test.info()"
   ]
  },
  {
   "cell_type": "code",
   "execution_count": 57,
   "id": "edaef181",
   "metadata": {
    "scrolled": true
   },
   "outputs": [
    {
     "name": "stdout",
     "output_type": "stream",
     "text": [
      "BEIRUT, Lebanon  —   For months, the bodies have been piling up in eastern Aleppo as the buildings have come down, pulverized by Syrian and Russian jets, burying residents who could not flee in avalanches of bricks and mortar. And now it is almost over, not because diplomats reached a deal in Geneva, but because President Bashar   of Syria and his foreign allies have won the city. Cold, hungry and scarred by the deaths of loved ones, tens of thousands of civilians and fighters are awaiting buses to take them from their homes to uncertain futures. It is not the first victory that Mr. Assad has secured with overwhelming force in the Syrian conflict. But his subjugation of eastern Aleppo has echoed across the Middle East and beyond, rattling alliances, proving the effectiveness of violence and highlighting the reluctance of many countries, perhaps most notably the United States, to get involved. President Obama, on Friday at his final news conference of the year, acknowledged that the nearly    war in Syria had been among the hardest issues he has faced, and that the world was “united in horror” at the butchery in Aleppo. But Mr. Obama  —   who came into office committed to reducing America’s military entanglements in the Middle East  —   also defended his decision not to intervene more forcefully. To do otherwise, he said, would have required the United States to be “all in and willing to take over Syria. ” The recent developments in the Syrian conflict send a message to autocratic leaders in the region and elsewhere that force works  —   and brings few consequences, said Maha Yahya, the director of the Carnegie Middle East Center in Beirut. The lesson for the victims of that force is that they are on their own. “Everybody has been watching helplessly as this conflict unfolds,” Ms. Yahya said. “They are watching civilians being massacred mercilessly and all they can do is tweet about it and sign petitions. ” This is the Middle East that   Donald J. Trump will face upon taking office next year, a region where jihadists have erased borders, Russia is ascendant, Iran has extended its reach through powerful militias and American allies are questioning how much they can rely on Washington. Mr. Trump has articulated no comprehensive policy for the region, other than underlining his support for Israel and suggesting he could work with Russia against the Islamic State, perhaps establishing “safe zones” in Syria  —   an apparent contradiction since Russian jets have bombed civilian areas. But the fallout from Aleppo highlights the dynamics that are likely to shape the region throughout his term. Analysts have begun to add Aleppo to the list of places where humans have failed to stop tragedies committed against other humans, as in Grozny, Rwanda and Srebrenica. The comparisons are not perfect, but can be instructive. Most estimates put the death toll in the Rwandan genocide much higher than that of the entire Syrian war, although the killing in Rwanda happened much faster, giving foreign powers less time to react. The siege and bombardment of Aleppo, on the other hand, came after years of conflict in which Mr. Assad’s forces attacked protesters, dropped exploding barrels on rebellious communities and used chemical weapons on their own people. What is more, because of smartphones and the internet, the Syrian conflict has arguably been better documented than any armed conflict in history. But that has still failed to bring about accountability. “Aleppo is now the symbol of how far we have retrenched,” said David M. Crane, a veteran international war crimes prosecutor and a professor at the Syracuse University College of Law. “It is part of a worldwide move away from a global village. Countries are turning back into themselves. ” While acknowledging the current weakness of international justice, Professor Crane has been working throughout the Syrian conflict to compile evidence of possible war crimes against different parties in hopes that they will one day be held to account. “I really do believe that over time we will be able to move forward,” he said. “International justice is not going away. ” By way of example, he mentioned Charles G. Taylor, the former president of Liberia, whom Mr. Crane helped put behind bars in an international trial many years after he had committed his crimes. The Syrian conflict did not begin as a civil war but as a popular uprising aimed at ousting Mr. Assad. He responded to protests with gunfire, detentions and torture. Many in the opposition took up arms to defend themselves and fight back, drawing support from Gulf countries, Turkey, the Syrian diaspora and the United States. The conflict escalated from there, as Mr. Assad sought help from Russia and Iran. As the state receded and chaos spread, jihadist movements established themselves, attracting recruits with religious fervor and ample funding, fueling accusations by Mr. Assad that his opponents were terrorists. Over time, as the space for civil activism narrowed, that claim became increasingly true, giving Western nations another reason not to intervene. Mr. Obama denounced Mr. Assad as an illegitimate leader but kept American forces out of the battle to oust him. He argued that the United States could not resolve the conflict and that Syria was not a core American interest. Even when Mr. Assad deployed chemical weapons, crossing a “red line,” Mr. Obama did not bomb Syria, angering the opposition and allies like Saudi Arabia, who felt he had further empowered Mr. Assad. Instead, Mr. Obama made a deal with Russia to rid Syria of chemical weapons. But the war metastasized, spawning new horrors that increasingly affected the United States and its allies. The Islamic State seized territory in Syria and Iraq, declaring a caliphate and inspiring attacks from Bangladesh to San Bernardino, Calif. And the violence sent waves of refugees into Lebanon, Jordan and Turkey and let loose a flow of migrants whose arrival in Europe has undermined its unity and stability. All those shocks contributed to the environment in which the siege and battering of eastern Aleppo could take place, changing the course of the conflict. Mr. Assad’s seizure of Aleppo will leave the opposition with no control in any of Syria’s major cities, possibly signaling its end as a political force that can pressure the government to negotiate. “The Assad regime has won the strategic war,” said Hassan Hassan, a resident fellow from Syria at the Tahrir Institute for Middle East Policy in Washington. “Psychologically, the opposition is no longer seen as a force that can break Bashar  . ” Other leaders have paid attention to how he did it. “The Assad playbook now is that you can crush your people you can destroy cities you can attack with chemical weapons you can enable extremists  —   and the international community will stand by and not do anything,” Mr. Hassan said. “That is a precedent for dictators who feel threatened by their populations. ” But Mr. Assad’s seizure of Aleppo does not mean the end of the war. Gulf states like Qatar have said they will continue to back the rebels, and many analysts predict that the movement will become a prolonged insurgency. Mr. Assad’s surprise loss of the ancient city of Palmyra last week to the Islamic State indicates that his fighters are stretched thin. Also converging in Aleppo is the region’s rising sectarian split. As the rebels have been adopted by Sunni powers such as Saudi Arabia, Mr. Assad has deepened his reliance on Shiite militias who receive support from Iran. Bolstering Mr. Assad’s troops in Aleppo were fighters from Lebanon’s Hezbollah and Shiite militiamen from Iraq and elsewhere who viewed the battle in religious terms. Many Syrians, including in   parts of Aleppo, will be happy when Mr. Assad takes back the whole city because they see him as a symbol of a unified state or because they distrust the rebels for accepting support from foreign powers. Others will just be glad the fighting has stopped. For some, the war’s greatest casualty has been the ability of Syrians to live together. Samir Altaqi, a surgeon and former member of the Syrian Parliament who now directs the Orient Research Center in Dubai, said he now avoids images of Aleppo, where he grew up and began his career. “I don’t bear to look too much at this footage because it would mean a full moral collapse, and I would become too extremist,” he said. His interactions with younger Syrians who have lived through the war have scared him, he said. “My impression is that these people have no more distance from death,” said Mr. Altaqi, who is in his  . “They are sorry to be alive because all their beloved people are dead. ” He recalled his youth in Aleppo decades ago, when his family had Jewish and Christian neighbors and a “mercantile attitude” pervaded the city. “I remember how we never asked about the religion of our neighbors and friends,” he said, even when a son or daughter brought home a potential mate. “What will happen to all of this history?” he asked.\n"
     ]
    }
   ],
   "source": [
    "# total there are 31008 news articles that AI did not see\n",
    "i = 896\n",
    "inp = df_test['text'][i]\n",
    "print(inp)"
   ]
  },
  {
   "cell_type": "code",
   "execution_count": 58,
   "id": "8ea13332",
   "metadata": {
    "scrolled": true
   },
   "outputs": [
    {
     "data": {
      "text/plain": [
       "'Trouth is ::> FAKE'"
      ]
     },
     "execution_count": 58,
     "metadata": {},
     "output_type": "execute_result"
    }
   ],
   "source": [
    "k = \"Trouth is ::> \" + str(y_pred[0])\n",
    "k\n",
    "# This is the ground trouth label.."
   ]
  },
  {
   "cell_type": "code",
   "execution_count": 53,
   "id": "4ca2d225",
   "metadata": {},
   "outputs": [
    {
     "data": {
      "text/plain": [
       "'AI PREDICTION ::> FAKE'"
      ]
     },
     "execution_count": 53,
     "metadata": {},
     "output_type": "execute_result"
    }
   ],
   "source": [
    "sen = [inp]\n",
    "vec_sen = tfidf_vectorizer.transform(sen)\n",
    "y_pred=pac.predict(vec_sen)\n",
    "o = \"AI PREDICTION ::> \" + str(y_pred[0])\n",
    "o\n",
    "# This is tha AI prediction.."
   ]
  },
  {
   "cell_type": "markdown",
   "id": "6a726142",
   "metadata": {},
   "source": [
    "# Function for gradio"
   ]
  },
  {
   "cell_type": "code",
   "execution_count": 46,
   "id": "4496c6e6",
   "metadata": {},
   "outputs": [],
   "source": [
    "def FakeOrReal(News):\n",
    "    sen = [News]\n",
    "    vec_sen = tfidf_vectorizer.transform(sen)\n",
    "    y_pred=pac.predict(vec_sen)\n",
    "    o = \"AI PREDICTION ::\" + str(y_pred[0])\n",
    "    return o"
   ]
  },
  {
   "cell_type": "markdown",
   "id": "ee0e5b75",
   "metadata": {},
   "source": [
    "# Run Gradio"
   ]
  },
  {
   "cell_type": "code",
   "execution_count": 47,
   "id": "8906f044",
   "metadata": {
    "scrolled": true
   },
   "outputs": [
    {
     "name": "stderr",
     "output_type": "stream",
     "text": [
      "C:\\Users\\uabhi\\anaconda3\\lib\\site-packages\\gradio\\utils.py:30: UserWarning: unable to connect with package URL to collect version info.\n",
      "  warnings.warn(\"unable to connect with package URL to collect version info.\")\n"
     ]
    },
    {
     "name": "stdout",
     "output_type": "stream",
     "text": [
      "Running on local URL:  http://127.0.0.1:7861/\n",
      "\n",
      "To create a public link, set `share=True` in `launch()`.\n"
     ]
    },
    {
     "data": {
      "text/html": [
       "\n",
       "        <iframe\n",
       "            width=\"900\"\n",
       "            height=\"500\"\n",
       "            src=\"http://127.0.0.1:7861/\"\n",
       "            frameborder=\"0\"\n",
       "            allowfullscreen\n",
       "        ></iframe>\n",
       "        "
      ],
      "text/plain": [
       "<IPython.lib.display.IFrame at 0x203d60f2bb0>"
      ]
     },
     "metadata": {},
     "output_type": "display_data"
    },
    {
     "data": {
      "text/plain": [
       "(<Flask 'gradio.networking'>, 'http://127.0.0.1:7861/', None)"
      ]
     },
     "execution_count": 47,
     "metadata": {},
     "output_type": "execute_result"
    }
   ],
   "source": [
    "iface = gr.Interface(fn=FakeOrReal, inputs=\"text\", outputs=\"text\")\n",
    "iface.launch()"
   ]
  }
 ],
 "metadata": {
  "kernelspec": {
   "display_name": "Python 3",
   "language": "python",
   "name": "python3"
  },
  "language_info": {
   "codemirror_mode": {
    "name": "ipython",
    "version": 3
   },
   "file_extension": ".py",
   "mimetype": "text/x-python",
   "name": "python",
   "nbconvert_exporter": "python",
   "pygments_lexer": "ipython3",
   "version": "3.8.8"
  }
 },
 "nbformat": 4,
 "nbformat_minor": 5
}
